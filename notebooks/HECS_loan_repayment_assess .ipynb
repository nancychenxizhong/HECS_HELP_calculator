{
 "cells": [
  {
   "cell_type": "markdown",
   "id": "9f0967ce",
   "metadata": {},
   "source": [
    "### The Problem: \n",
    "Visualise results of what-if scenarios to assess one-off student loan repayment options before indexation of 7.1%\n",
    "\n",
    "Known varaibles:\n",
    "- Current loan balance (with transaction records available if occurring/occurred in the past years)\n",
    "- Age of the loan: partial effects if part of loan newer than 11 months\n",
    "- Earnings financial year 2022-2023 (maybe incl. voluntary repayment made in the period)\n",
    "- If have home loan with offset account: current home loan rate\n",
    "- If saving for home loan deposit: desired borrowing power\n",
    "- Other accounts with interest (e.g. saving, investment)\n",
    "\n",
    "Variables that need to be estimated:\n",
    "- Future indexation rates\n",
    "- Future earnings => determines compulsory repayment amount\n",
    "- Planned voluntary repayments\n",
    "- If have home loan with offset account: future home loan rates"
   ]
  },
  {
   "cell_type": "markdown",
   "id": "853bc9b9",
   "metadata": {},
   "source": [
    "Hypothesis 1: Paying off is only beneficial if having high-paying jobs and will pay off the loan in the next 2-3 years naturally in any cases\n",
    "\n",
    "Hypothesis 2: Partial pay off is a worse idea than paying off fully or only making minimum repayment for the rest of loan course (with an offset account)"
   ]
  },
  {
   "cell_type": "code",
   "execution_count": 1,
   "id": "1719542f",
   "metadata": {},
   "outputs": [],
   "source": [
    "import pandas as pd"
   ]
  },
  {
   "cell_type": "code",
   "execution_count": null,
   "id": "3d60b624",
   "metadata": {},
   "outputs": [],
   "source": [
    "# indexation rate table \n",
    "# https://www.ato.gov.au/Rates/Study-and-training-loan-indexation-rates/\n",
    "# data = {'Year': [2023, 2022, 2021, 2020, 2019, 2018, 2017, 2016, 2015, 2014, 2013],\n",
    "#         'Indexation rate': ['7.1%', '3.9%', '0.6%', '1.8%', '1.8%', '1.9%', '1.5%', '1.5%', '2.1%', '2.6%', '2.0%']}\n",
    "\n",
    "# df = pd.DataFrame(data)"
   ]
  },
  {
   "cell_type": "code",
   "execution_count": 2,
   "id": "6c1db78b",
   "metadata": {},
   "outputs": [
    {
     "name": "stdout",
     "output_type": "stream",
     "text": [
      "    Income Threshold  Repayment Rate\n",
      "0              48361           0.000\n",
      "1              55836           0.010\n",
      "2              59186           0.020\n",
      "3              62738           0.025\n",
      "4              66502           0.030\n",
      "5              70492           0.035\n",
      "6              74722           0.040\n",
      "7              79206           0.045\n",
      "8              83958           0.050\n",
      "9              88996           0.055\n",
      "10             94336           0.060\n",
      "11             99996           0.065\n",
      "12            105996           0.070\n",
      "13            112355           0.075\n",
      "14            119097           0.080\n",
      "15            126243           0.085\n",
      "16            133818           0.090\n",
      "17            141847           0.095\n"
     ]
    }
   ],
   "source": [
    "# 2022 - 2023 repayment income thresholds and rates\n",
    "# https://www.ato.gov.au/Rates/HELP,-TSL-and-SFSS-repayment-thresholds-and-rates/\n",
    "repayment_rate_thre_data = [\n",
    "    (48361, 0),\n",
    "    (55836, 0.01),\n",
    "    (59186, 0.02),\n",
    "    (62738, 0.025),\n",
    "    (66502, 0.03),\n",
    "    (70492, 0.035),\n",
    "    (74722, 0.04),\n",
    "    (79206, 0.045),\n",
    "    (83958, 0.05),\n",
    "    (88996, 0.055),\n",
    "    (94336, 0.06),\n",
    "    (99996, 0.065),\n",
    "    (105996, 0.07),\n",
    "    (112355, 0.075),\n",
    "    (119097, 0.08),\n",
    "    (126243, 0.085),\n",
    "    (133818, 0.09),\n",
    "    (141847, 0.095),\n",
    "]\n",
    "\n",
    "# Create a DataFrame\n",
    "columns = [\"Income Threshold\", \"Repayment Rate\"]\n",
    "df_repayment_rate_thre = pd.DataFrame(repayment_rate_thre_data, columns=columns)\n",
    "\n",
    "# Display the DataFrame\n",
    "print(df_repayment_rate_thre)"
   ]
  },
  {
   "cell_type": "code",
   "execution_count": 3,
   "id": "c5533eea",
   "metadata": {},
   "outputs": [
    {
     "name": "stdout",
     "output_type": "stream",
     "text": [
      "The repayment rate for an income of $60000 is 2.5%\n"
     ]
    }
   ],
   "source": [
    "# assume repayment income thresholds and rates stays the same for now \n",
    "def get_repayment_rate(income):\n",
    "    rates = [\n",
    "        (48361, 0),\n",
    "        (55836, 0.01),\n",
    "        (59186, 0.02),\n",
    "        (62738, 0.025),\n",
    "        (66502, 0.03),\n",
    "        (70492, 0.035),\n",
    "        (74722, 0.04),\n",
    "        (79206, 0.045),\n",
    "        (83958, 0.05),\n",
    "        (88996, 0.055),\n",
    "        (94336, 0.06),\n",
    "        (99996, 0.065),\n",
    "        (105996, 0.07),\n",
    "        (112355, 0.075),\n",
    "        (119097, 0.08),\n",
    "        (126243, 0.085),\n",
    "        (133818, 0.09),\n",
    "        (141847, 0.095),\n",
    "    ]\n",
    "\n",
    "    for income_threshold, rate in rates:\n",
    "        if income <= income_threshold:\n",
    "            return rate\n",
    "    return 0.1\n",
    "\n",
    "income = 60000\n",
    "repayment_rate = get_repayment_rate(income)\n",
    "print(f\"The repayment rate for an income of ${income} is {repayment_rate*100}%\")"
   ]
  },
  {
   "cell_type": "code",
   "execution_count": 22,
   "id": "cf107b78",
   "metadata": {},
   "outputs": [],
   "source": [
    "def calc_compulsory_repayment(earnings):\n",
    "    return earnings * get_repayment_rate(earnings) #*increased loan balance does not affect compulsory repayment - will just take longer\n",
    "\n",
    "def apply_indexation(loan_balance, indexation_rate=0.025):\n",
    "    return loan_balance * (1 + indexation_rate)\n",
    "\n",
    "def estimate_future_earnings(initial_earnings, years, growth_rate=0.01):\n",
    "    return initial_earnings * (1 + growth_rate) ** years"
   ]
  },
  {
   "cell_type": "code",
   "execution_count": 9,
   "id": "916779e3",
   "metadata": {},
   "outputs": [],
   "source": [
    "# year 0: 2023, assuming fixed/averaged home loan rate for each year, assumed rates from reddit\n",
    "home_loan_rates = {0: 0.0582, 1: 0.0499, 2: 0.0499, 3: 0.0549, 4: 0.0599, 5:0.0599, 6:0.0599, 7:0.0599}\n",
    "indexation_rates = {0: 0.071, 1: 0.05, 2: 0.04, 3: 0.03, 4:0.02, 5:0.02, 6:0.02, 7:0.02}\n",
    "\n",
    "#https://www.reddit.com/r/fiaustralia/comments/1304agl/pay_off_hecs_or_leave_money_in_offset/"
   ]
  },
  {
   "cell_type": "code",
   "execution_count": 23,
   "id": "52eab5cf",
   "metadata": {},
   "outputs": [
    {
     "name": "stdout",
     "output_type": "stream",
     "text": [
      "Year\tLoan Balance\n",
      "0\t70000.00\n",
      "1\t74970.00\n",
      "2\t78718.50\n",
      "3\t81867.24\n",
      "4\t84323.26\n",
      "5\t86009.72\n",
      "6\t87729.92\n",
      "7\t89484.52\n",
      "8\t91274.21\n"
     ]
    }
   ],
   "source": [
    "def calc_ongoing_loan_balance(initial_loan_balance, indexation_rates):\n",
    "    loan_balance = initial_loan_balance\n",
    "    loan_balances = [loan_balance]\n",
    "\n",
    "    for year, indexation_rate in indexation_rates.items():\n",
    "        loan_balance *= (1 + indexation_rate)\n",
    "        loan_balances.append(loan_balance)\n",
    "\n",
    "    return loan_balances\n",
    "\n",
    "initial_loan_balance = 70000 \n",
    "loan_balances = calc_ongoing_loan_balance(initial_loan_balance, indexation_rates)\n",
    "\n",
    "print(\"Year\\tLoan Balance\")\n",
    "for year, balance in enumerate(loan_balances):\n",
    "    print(f\"{year}\\t{balance:.2f}\")"
   ]
  },
  {
   "cell_type": "code",
   "execution_count": 99,
   "id": "d79d353b",
   "metadata": {},
   "outputs": [
    {
     "name": "stdout",
     "output_type": "stream",
     "text": [
      "Remaining years to pay off the student loan on year 0: 16\n"
     ]
    }
   ],
   "source": [
    "def calc_remaining_years_on_year_X(loan_balances, initial_earnings, growth_rate, year_X=0, voluntary_repayments=0, verbose=False):\n",
    "    year = 0\n",
    "    remaining_loan_balance = loan_balances[year_X]\n",
    "    if verbose:\n",
    "        print(f\"loan_balance on year {year_X}: {remaining_loan_balance}\")\n",
    "\n",
    "    while remaining_loan_balance > 0:\n",
    "        earnings = initial_earnings * (1 + growth_rate) ** year\n",
    "        repayment = calc_compulsory_repayment(earnings)\n",
    "        remaining_loan_balance -= repayment\n",
    "        year += 1\n",
    "        if verbose:\n",
    "            print(f\"remaining balance: {remaining_loan_balance} on year {year}\")\n",
    "    return year\n",
    "\n",
    "initial_earnings = 68000  \n",
    "growth_rate = 0.03  \n",
    "\n",
    "remaining_years = calc_remaining_years_on_year_X(loan_balances, initial_earnings, growth_rate, verbose=False)\n",
    "\n",
    "print(f\"Remaining years to pay off the student loan on year 0: {remaining_years}\")"
   ]
  },
  {
   "cell_type": "code",
   "execution_count": 37,
   "id": "ad4a91a8",
   "metadata": {},
   "outputs": [],
   "source": [
    "def simulate_yearly_gain_home_loan_case(amount, year, earnings, voluntary_repayments):\n",
    "    \"\"\"yearly gain from offset account\"\"\"\n",
    "    \n",
    "    # increased loan_balance due to indexation\n",
    "    increased_loan_balance = loan_balances[year]-loan_balances[year-1]\n",
    "    \n",
    "    # cost from the student loan = compulsary repayment + any voluntary_repayment\n",
    "    cost_loan = calc_compulsory_repayment(earnings) + voluntary_repayments\n",
    "    \n",
    "    # earnings from offset account - if the one_off_payment_amount all goes to the offset account\n",
    "    earnings_offset = amount * home_loan_rate[year-1]\n",
    "    \n",
    "    yearly_gain = earnings_offset - cost_loan\n",
    "    \n",
    "    return yearly_gain"
   ]
  },
  {
   "cell_type": "code",
   "execution_count": 121,
   "id": "47f7fe58",
   "metadata": {},
   "outputs": [],
   "source": [
    "# # simulate over years\n",
    "# def simulate_over_years(cash=60000, initial_loan_balance=70000, initial_earnings=68000, growth_rate=0.03, voluntary_repayments=0, years=5):\n",
    "    \n",
    "#     # check if amount of cash at hand is larger or smaller than current loan balance\n",
    "#     if cash > initial_loan_balance:\n",
    "#         max_amount = initial_loan_balance\n",
    "#     else:\n",
    "#         max_amount = cash\n",
    "    \n",
    "#     one_off_payment_range = range(0, max_amount, 10000) \n",
    "\n",
    "#     gains = []\n",
    "#     remaining_years_lst = []\n",
    "#     for year in range(1, years+1):\n",
    "\n",
    "#         earnings = estimate_future_earnings(initial_earnings, year, growth_rate=growth_rate)\n",
    "        \n",
    "#         yearly_gain_data = []\n",
    "#         remaining_years_data = []\n",
    "        \n",
    "#         for one_off_payment in one_off_payment_range:\n",
    "#             amount = max_amount - one_off_payment\n",
    "            \n",
    "#             yearly_gain = simulate_yearly_gain_home_loan_case(amount, year, earnings, voluntary_repayments)\n",
    "            \n",
    "#             loan_balances = calc_ongoing_loan_balance(initial_loan_balance-one_off_payment, indexation_rates)\n",
    "# #             print(\"Year\\tLoan Balance\")\n",
    "# #             for y, b in enumerate(loan_balances):\n",
    "# #                 print(f\"{y}\\t{b:.2f}\")\n",
    "#             remaining_years = calc_remaining_years_on_year_X(loan_balances, initial_earnings, growth_rate, year_X=year, voluntary_repayments=0)\n",
    "#             print(one_off_payment, remaining_years)\n",
    "#             yearly_gain_data.append(yearly_gain) # data of different one_off_payment amount\n",
    "#             remaining_years_data.append(remaining_years)\n",
    "            \n",
    "#         gains.append(yearly_gain_data)\n",
    "#         remaining_years_lst.append(remaining_years_data)\n",
    "#     return gains, remaining_years_lst"
   ]
  },
  {
   "cell_type": "code",
   "execution_count": 83,
   "id": "28d4645b",
   "metadata": {},
   "outputs": [],
   "source": [
    "# simulate_over_years(cash=60000, initial_loan_balance=70000, initial_earnings=68000, growth_rate=0.0, voluntary_repayments=0, years=5)"
   ]
  },
  {
   "cell_type": "code",
   "execution_count": 129,
   "id": "1bec4524",
   "metadata": {},
   "outputs": [],
   "source": [
    "# simulate over years\n",
    "def simulate_over_years(cash=60000, initial_loan_balance=70000, initial_earnings=68000, growth_rate=0.03, voluntary_repayments=0, years=5, print_estimated_loan_balances=False):\n",
    "    \n",
    "    # year input cannot be longer than estimated years of rates | also need to be shorter than maximum remaining years?\n",
    "    \n",
    "    # check if amount of cash at hand is larger or smaller than current loan balance\n",
    "    if cash > initial_loan_balance:\n",
    "        max_amount = initial_loan_balance\n",
    "    else:\n",
    "        max_amount = cash\n",
    "    \n",
    "    one_off_payment_range = range(0, max_amount, 10000) \n",
    "    \n",
    "            \n",
    "    gains = []\n",
    "    remaining_years_lst = []\n",
    "    \n",
    "    for one_off_payment in one_off_payment_range:\n",
    "        \n",
    "        amount = max_amount - one_off_payment\n",
    "        loan_balances = calc_ongoing_loan_balance(initial_loan_balance-one_off_payment, indexation_rates)\n",
    "        if print_estimated_loan_balances:\n",
    "            print(\"Year\\tLoan Balance\")\n",
    "            for y, b in enumerate(loan_balances):\n",
    "                print(f\"{y}\\t{b:.2f}\")\n",
    "        \n",
    "        gains_data = []\n",
    "        remaining_years_data = []\n",
    "        \n",
    "        for year in range(1, years+1):\n",
    "            earnings = estimate_future_earnings(initial_earnings, year, growth_rate=growth_rate)\n",
    "            yearly_gain = simulate_yearly_gain_home_loan_case(amount, year, earnings, voluntary_repayments)\n",
    "            remaining_years = calc_remaining_years_on_year_X(loan_balances, initial_earnings, growth_rate, year_X=year, voluntary_repayments=0)\n",
    "        \n",
    "            gains_data.append(yearly_gain)\n",
    "            remaining_years_data.append(remaining_years)\n",
    "        \n",
    "        gains.append(gains_data)\n",
    "        remaining_years_lst.append(remaining_years_data)\n",
    "        \n",
    "        print(f\"With one-off payment of {one_off_payment} on year 0, the remaining years to pay off the student loan on year 1 is {remaining_years_data[0]}\")\n",
    "        \n",
    "    return gains, remaining_years_lst"
   ]
  },
  {
   "cell_type": "code",
   "execution_count": 130,
   "id": "26da01c3",
   "metadata": {},
   "outputs": [
    {
     "name": "stdout",
     "output_type": "stream",
     "text": [
      "With one-off payment of 0 on year 0, the remaining years to pay off the student loan on year 1 is 17\n",
      "With one-off payment of 10000 on year 0, the remaining years to pay off the student loan on year 1 is 15\n",
      "With one-off payment of 20000 on year 0, the remaining years to pay off the student loan on year 1 is 14\n",
      "With one-off payment of 30000 on year 0, the remaining years to pay off the student loan on year 1 is 12\n",
      "With one-off payment of 40000 on year 0, the remaining years to pay off the student loan on year 1 is 10\n",
      "With one-off payment of 50000 on year 0, the remaining years to pay off the student loan on year 1 is 7\n"
     ]
    },
    {
     "data": {
      "text/plain": [
       "([[1040.6,\n",
       "   108.35199999999986,\n",
       "   21.782560000000103,\n",
       "   -150.0569586000006,\n",
       "   46.62133264199974],\n",
       "  [458.5999999999999,\n",
       "   -390.64800000000014,\n",
       "   -477.2174399999999,\n",
       "   -699.0569586000006,\n",
       "   -552.3786673580003],\n",
       "  [-123.40000000000009,\n",
       "   -889.6480000000001,\n",
       "   -976.2174399999999,\n",
       "   -1248.0569586000006,\n",
       "   -1151.3786673580003],\n",
       "  [-705.4000000000001,\n",
       "   -1388.6480000000001,\n",
       "   -1475.21744,\n",
       "   -1797.0569586000006,\n",
       "   -1750.3786673580003],\n",
       "  [-1287.4,\n",
       "   -1887.6480000000001,\n",
       "   -1974.21744,\n",
       "   -2346.0569586000006,\n",
       "   -2349.3786673580003],\n",
       "  [-1869.4, -2386.648, -2473.21744, -2895.0569586000006, -2948.3786673580003]],\n",
       " [[17, 17, 17, 18, 18],\n",
       "  [15, 16, 16, 16, 16],\n",
       "  [14, 14, 14, 15, 15],\n",
       "  [12, 12, 13, 13, 13],\n",
       "  [10, 10, 10, 11, 11],\n",
       "  [7, 8, 8, 8, 8]])"
      ]
     },
     "execution_count": 130,
     "metadata": {},
     "output_type": "execute_result"
    }
   ],
   "source": [
    "simulate_over_years(cash=60000, initial_loan_balance=70000, initial_earnings=68000, growth_rate=0.03, voluntary_repayments=0, years=5)"
   ]
  },
  {
   "cell_type": "code",
   "execution_count": 146,
   "id": "9c37adfc",
   "metadata": {},
   "outputs": [
    {
     "name": "stdout",
     "output_type": "stream",
     "text": [
      "With one-off payment of 0 on year 0, the remaining years to pay off the student loan on year 1 is 17\n",
      "With one-off payment of 10000 on year 0, the remaining years to pay off the student loan on year 1 is 15\n",
      "With one-off payment of 20000 on year 0, the remaining years to pay off the student loan on year 1 is 14\n",
      "With one-off payment of 30000 on year 0, the remaining years to pay off the student loan on year 1 is 12\n",
      "With one-off payment of 40000 on year 0, the remaining years to pay off the student loan on year 1 is 10\n",
      "With one-off payment of 50000 on year 0, the remaining years to pay off the student loan on year 1 is 7\n"
     ]
    }
   ],
   "source": [
    "one_off_payment_range = range(0, 60000, 10000) \n",
    "gain_or_loss_data, _ = simulate_over_years(cash=60000, initial_loan_balance=70000, initial_earnings=68000, growth_rate=0.03, voluntary_repayments=0, years=3)"
   ]
  },
  {
   "cell_type": "code",
   "execution_count": 179,
   "id": "000e5512",
   "metadata": {},
   "outputs": [
    {
     "data": {
      "application/vnd.plotly.v1+json": {
       "config": {
        "plotlyServerURL": "https://plot.ly"
       },
       "data": [
        {
         "line": {
          "color": "#cb8b94"
         },
         "name": "One-Off Payment: 0",
         "stackgroup": "one",
         "type": "scatter",
         "x": [
          1,
          2,
          3
         ],
         "y": [
          1040.6,
          108.35199999999986,
          21.782560000000103
         ]
        },
        {
         "line": {
          "color": "#ac9a78"
         },
         "name": "One-Off Payment: 10000",
         "stackgroup": "one",
         "type": "scatter",
         "x": [
          1,
          2,
          3
         ],
         "y": [
          458.5999999999999,
          -390.64800000000014,
          -477.2174399999999
         ]
        },
        {
         "line": {
          "color": "#7ea677"
         },
         "name": "One-Off Payment: 20000",
         "stackgroup": "one",
         "type": "scatter",
         "x": [
          1,
          2,
          3
         ],
         "y": [
          -123.40000000000009,
          -889.6480000000001,
          -976.2174399999999
         ]
        },
        {
         "line": {
          "color": "#7ca4a0"
         },
         "name": "One-Off Payment: 30000",
         "stackgroup": "one",
         "type": "scatter",
         "x": [
          1,
          2,
          3
         ],
         "y": [
          -705.4000000000001,
          -1388.6480000000001,
          -1475.21744
         ]
        },
        {
         "line": {
          "color": "#819fc1"
         },
         "name": "One-Off Payment: 40000",
         "stackgroup": "one",
         "type": "scatter",
         "x": [
          1,
          2,
          3
         ],
         "y": [
          -1287.4,
          -1887.6480000000001,
          -1974.21744
         ]
        },
        {
         "line": {
          "color": "#be8bc4"
         },
         "name": "One-Off Payment: 50000",
         "stackgroup": "one",
         "type": "scatter",
         "x": [
          1,
          2,
          3
         ],
         "y": [
          -1869.4,
          -2386.648,
          -2473.21744
         ]
        }
       ],
       "layout": {
        "template": {
         "data": {
          "bar": [
           {
            "error_x": {
             "color": "#2a3f5f"
            },
            "error_y": {
             "color": "#2a3f5f"
            },
            "marker": {
             "line": {
              "color": "#E5ECF6",
              "width": 0.5
             },
             "pattern": {
              "fillmode": "overlay",
              "size": 10,
              "solidity": 0.2
             }
            },
            "type": "bar"
           }
          ],
          "barpolar": [
           {
            "marker": {
             "line": {
              "color": "#E5ECF6",
              "width": 0.5
             },
             "pattern": {
              "fillmode": "overlay",
              "size": 10,
              "solidity": 0.2
             }
            },
            "type": "barpolar"
           }
          ],
          "carpet": [
           {
            "aaxis": {
             "endlinecolor": "#2a3f5f",
             "gridcolor": "white",
             "linecolor": "white",
             "minorgridcolor": "white",
             "startlinecolor": "#2a3f5f"
            },
            "baxis": {
             "endlinecolor": "#2a3f5f",
             "gridcolor": "white",
             "linecolor": "white",
             "minorgridcolor": "white",
             "startlinecolor": "#2a3f5f"
            },
            "type": "carpet"
           }
          ],
          "choropleth": [
           {
            "colorbar": {
             "outlinewidth": 0,
             "ticks": ""
            },
            "type": "choropleth"
           }
          ],
          "contour": [
           {
            "colorbar": {
             "outlinewidth": 0,
             "ticks": ""
            },
            "colorscale": [
             [
              0,
              "#0d0887"
             ],
             [
              0.1111111111111111,
              "#46039f"
             ],
             [
              0.2222222222222222,
              "#7201a8"
             ],
             [
              0.3333333333333333,
              "#9c179e"
             ],
             [
              0.4444444444444444,
              "#bd3786"
             ],
             [
              0.5555555555555556,
              "#d8576b"
             ],
             [
              0.6666666666666666,
              "#ed7953"
             ],
             [
              0.7777777777777778,
              "#fb9f3a"
             ],
             [
              0.8888888888888888,
              "#fdca26"
             ],
             [
              1,
              "#f0f921"
             ]
            ],
            "type": "contour"
           }
          ],
          "contourcarpet": [
           {
            "colorbar": {
             "outlinewidth": 0,
             "ticks": ""
            },
            "type": "contourcarpet"
           }
          ],
          "heatmap": [
           {
            "colorbar": {
             "outlinewidth": 0,
             "ticks": ""
            },
            "colorscale": [
             [
              0,
              "#0d0887"
             ],
             [
              0.1111111111111111,
              "#46039f"
             ],
             [
              0.2222222222222222,
              "#7201a8"
             ],
             [
              0.3333333333333333,
              "#9c179e"
             ],
             [
              0.4444444444444444,
              "#bd3786"
             ],
             [
              0.5555555555555556,
              "#d8576b"
             ],
             [
              0.6666666666666666,
              "#ed7953"
             ],
             [
              0.7777777777777778,
              "#fb9f3a"
             ],
             [
              0.8888888888888888,
              "#fdca26"
             ],
             [
              1,
              "#f0f921"
             ]
            ],
            "type": "heatmap"
           }
          ],
          "heatmapgl": [
           {
            "colorbar": {
             "outlinewidth": 0,
             "ticks": ""
            },
            "colorscale": [
             [
              0,
              "#0d0887"
             ],
             [
              0.1111111111111111,
              "#46039f"
             ],
             [
              0.2222222222222222,
              "#7201a8"
             ],
             [
              0.3333333333333333,
              "#9c179e"
             ],
             [
              0.4444444444444444,
              "#bd3786"
             ],
             [
              0.5555555555555556,
              "#d8576b"
             ],
             [
              0.6666666666666666,
              "#ed7953"
             ],
             [
              0.7777777777777778,
              "#fb9f3a"
             ],
             [
              0.8888888888888888,
              "#fdca26"
             ],
             [
              1,
              "#f0f921"
             ]
            ],
            "type": "heatmapgl"
           }
          ],
          "histogram": [
           {
            "marker": {
             "pattern": {
              "fillmode": "overlay",
              "size": 10,
              "solidity": 0.2
             }
            },
            "type": "histogram"
           }
          ],
          "histogram2d": [
           {
            "colorbar": {
             "outlinewidth": 0,
             "ticks": ""
            },
            "colorscale": [
             [
              0,
              "#0d0887"
             ],
             [
              0.1111111111111111,
              "#46039f"
             ],
             [
              0.2222222222222222,
              "#7201a8"
             ],
             [
              0.3333333333333333,
              "#9c179e"
             ],
             [
              0.4444444444444444,
              "#bd3786"
             ],
             [
              0.5555555555555556,
              "#d8576b"
             ],
             [
              0.6666666666666666,
              "#ed7953"
             ],
             [
              0.7777777777777778,
              "#fb9f3a"
             ],
             [
              0.8888888888888888,
              "#fdca26"
             ],
             [
              1,
              "#f0f921"
             ]
            ],
            "type": "histogram2d"
           }
          ],
          "histogram2dcontour": [
           {
            "colorbar": {
             "outlinewidth": 0,
             "ticks": ""
            },
            "colorscale": [
             [
              0,
              "#0d0887"
             ],
             [
              0.1111111111111111,
              "#46039f"
             ],
             [
              0.2222222222222222,
              "#7201a8"
             ],
             [
              0.3333333333333333,
              "#9c179e"
             ],
             [
              0.4444444444444444,
              "#bd3786"
             ],
             [
              0.5555555555555556,
              "#d8576b"
             ],
             [
              0.6666666666666666,
              "#ed7953"
             ],
             [
              0.7777777777777778,
              "#fb9f3a"
             ],
             [
              0.8888888888888888,
              "#fdca26"
             ],
             [
              1,
              "#f0f921"
             ]
            ],
            "type": "histogram2dcontour"
           }
          ],
          "mesh3d": [
           {
            "colorbar": {
             "outlinewidth": 0,
             "ticks": ""
            },
            "type": "mesh3d"
           }
          ],
          "parcoords": [
           {
            "line": {
             "colorbar": {
              "outlinewidth": 0,
              "ticks": ""
             }
            },
            "type": "parcoords"
           }
          ],
          "pie": [
           {
            "automargin": true,
            "type": "pie"
           }
          ],
          "scatter": [
           {
            "marker": {
             "colorbar": {
              "outlinewidth": 0,
              "ticks": ""
             }
            },
            "type": "scatter"
           }
          ],
          "scatter3d": [
           {
            "line": {
             "colorbar": {
              "outlinewidth": 0,
              "ticks": ""
             }
            },
            "marker": {
             "colorbar": {
              "outlinewidth": 0,
              "ticks": ""
             }
            },
            "type": "scatter3d"
           }
          ],
          "scattercarpet": [
           {
            "marker": {
             "colorbar": {
              "outlinewidth": 0,
              "ticks": ""
             }
            },
            "type": "scattercarpet"
           }
          ],
          "scattergeo": [
           {
            "marker": {
             "colorbar": {
              "outlinewidth": 0,
              "ticks": ""
             }
            },
            "type": "scattergeo"
           }
          ],
          "scattergl": [
           {
            "marker": {
             "colorbar": {
              "outlinewidth": 0,
              "ticks": ""
             }
            },
            "type": "scattergl"
           }
          ],
          "scattermapbox": [
           {
            "marker": {
             "colorbar": {
              "outlinewidth": 0,
              "ticks": ""
             }
            },
            "type": "scattermapbox"
           }
          ],
          "scatterpolar": [
           {
            "marker": {
             "colorbar": {
              "outlinewidth": 0,
              "ticks": ""
             }
            },
            "type": "scatterpolar"
           }
          ],
          "scatterpolargl": [
           {
            "marker": {
             "colorbar": {
              "outlinewidth": 0,
              "ticks": ""
             }
            },
            "type": "scatterpolargl"
           }
          ],
          "scatterternary": [
           {
            "marker": {
             "colorbar": {
              "outlinewidth": 0,
              "ticks": ""
             }
            },
            "type": "scatterternary"
           }
          ],
          "surface": [
           {
            "colorbar": {
             "outlinewidth": 0,
             "ticks": ""
            },
            "colorscale": [
             [
              0,
              "#0d0887"
             ],
             [
              0.1111111111111111,
              "#46039f"
             ],
             [
              0.2222222222222222,
              "#7201a8"
             ],
             [
              0.3333333333333333,
              "#9c179e"
             ],
             [
              0.4444444444444444,
              "#bd3786"
             ],
             [
              0.5555555555555556,
              "#d8576b"
             ],
             [
              0.6666666666666666,
              "#ed7953"
             ],
             [
              0.7777777777777778,
              "#fb9f3a"
             ],
             [
              0.8888888888888888,
              "#fdca26"
             ],
             [
              1,
              "#f0f921"
             ]
            ],
            "type": "surface"
           }
          ],
          "table": [
           {
            "cells": {
             "fill": {
              "color": "#EBF0F8"
             },
             "line": {
              "color": "white"
             }
            },
            "header": {
             "fill": {
              "color": "#C8D4E3"
             },
             "line": {
              "color": "white"
             }
            },
            "type": "table"
           }
          ]
         },
         "layout": {
          "annotationdefaults": {
           "arrowcolor": "#2a3f5f",
           "arrowhead": 0,
           "arrowwidth": 1
          },
          "autotypenumbers": "strict",
          "coloraxis": {
           "colorbar": {
            "outlinewidth": 0,
            "ticks": ""
           }
          },
          "colorscale": {
           "diverging": [
            [
             0,
             "#8e0152"
            ],
            [
             0.1,
             "#c51b7d"
            ],
            [
             0.2,
             "#de77ae"
            ],
            [
             0.3,
             "#f1b6da"
            ],
            [
             0.4,
             "#fde0ef"
            ],
            [
             0.5,
             "#f7f7f7"
            ],
            [
             0.6,
             "#e6f5d0"
            ],
            [
             0.7,
             "#b8e186"
            ],
            [
             0.8,
             "#7fbc41"
            ],
            [
             0.9,
             "#4d9221"
            ],
            [
             1,
             "#276419"
            ]
           ],
           "sequential": [
            [
             0,
             "#0d0887"
            ],
            [
             0.1111111111111111,
             "#46039f"
            ],
            [
             0.2222222222222222,
             "#7201a8"
            ],
            [
             0.3333333333333333,
             "#9c179e"
            ],
            [
             0.4444444444444444,
             "#bd3786"
            ],
            [
             0.5555555555555556,
             "#d8576b"
            ],
            [
             0.6666666666666666,
             "#ed7953"
            ],
            [
             0.7777777777777778,
             "#fb9f3a"
            ],
            [
             0.8888888888888888,
             "#fdca26"
            ],
            [
             1,
             "#f0f921"
            ]
           ],
           "sequentialminus": [
            [
             0,
             "#0d0887"
            ],
            [
             0.1111111111111111,
             "#46039f"
            ],
            [
             0.2222222222222222,
             "#7201a8"
            ],
            [
             0.3333333333333333,
             "#9c179e"
            ],
            [
             0.4444444444444444,
             "#bd3786"
            ],
            [
             0.5555555555555556,
             "#d8576b"
            ],
            [
             0.6666666666666666,
             "#ed7953"
            ],
            [
             0.7777777777777778,
             "#fb9f3a"
            ],
            [
             0.8888888888888888,
             "#fdca26"
            ],
            [
             1,
             "#f0f921"
            ]
           ]
          },
          "colorway": [
           "#636efa",
           "#EF553B",
           "#00cc96",
           "#ab63fa",
           "#FFA15A",
           "#19d3f3",
           "#FF6692",
           "#B6E880",
           "#FF97FF",
           "#FECB52"
          ],
          "font": {
           "color": "#2a3f5f"
          },
          "geo": {
           "bgcolor": "white",
           "lakecolor": "white",
           "landcolor": "#E5ECF6",
           "showlakes": true,
           "showland": true,
           "subunitcolor": "white"
          },
          "hoverlabel": {
           "align": "left"
          },
          "hovermode": "closest",
          "mapbox": {
           "style": "light"
          },
          "paper_bgcolor": "white",
          "plot_bgcolor": "#E5ECF6",
          "polar": {
           "angularaxis": {
            "gridcolor": "white",
            "linecolor": "white",
            "ticks": ""
           },
           "bgcolor": "#E5ECF6",
           "radialaxis": {
            "gridcolor": "white",
            "linecolor": "white",
            "ticks": ""
           }
          },
          "scene": {
           "xaxis": {
            "backgroundcolor": "#E5ECF6",
            "gridcolor": "white",
            "gridwidth": 2,
            "linecolor": "white",
            "showbackground": true,
            "ticks": "",
            "zerolinecolor": "white"
           },
           "yaxis": {
            "backgroundcolor": "#E5ECF6",
            "gridcolor": "white",
            "gridwidth": 2,
            "linecolor": "white",
            "showbackground": true,
            "ticks": "",
            "zerolinecolor": "white"
           },
           "zaxis": {
            "backgroundcolor": "#E5ECF6",
            "gridcolor": "white",
            "gridwidth": 2,
            "linecolor": "white",
            "showbackground": true,
            "ticks": "",
            "zerolinecolor": "white"
           }
          },
          "shapedefaults": {
           "line": {
            "color": "#2a3f5f"
           }
          },
          "ternary": {
           "aaxis": {
            "gridcolor": "white",
            "linecolor": "white",
            "ticks": ""
           },
           "baxis": {
            "gridcolor": "white",
            "linecolor": "white",
            "ticks": ""
           },
           "bgcolor": "#E5ECF6",
           "caxis": {
            "gridcolor": "white",
            "linecolor": "white",
            "ticks": ""
           }
          },
          "title": {
           "x": 0.05
          },
          "xaxis": {
           "automargin": true,
           "gridcolor": "white",
           "linecolor": "white",
           "ticks": "",
           "title": {
            "standoff": 15
           },
           "zerolinecolor": "white",
           "zerolinewidth": 2
          },
          "yaxis": {
           "automargin": true,
           "gridcolor": "white",
           "linecolor": "white",
           "ticks": "",
           "title": {
            "standoff": 15
           },
           "zerolinecolor": "white",
           "zerolinewidth": 2
          }
         }
        },
        "title": {
         "text": "Gain or Loss for Different One-Off Payment Amounts Over Time"
        },
        "xaxis": {
         "title": {
          "text": "Years"
         }
        },
        "yaxis": {
         "title": {
          "text": "Gain or Loss"
         }
        }
       }
      },
      "text/html": [
       "<div>                            <div id=\"63d2a2db-01a2-4983-9cf5-9ca474298e45\" class=\"plotly-graph-div\" style=\"height:525px; width:100%;\"></div>            <script type=\"text/javascript\">                require([\"plotly\"], function(Plotly) {                    window.PLOTLYENV=window.PLOTLYENV || {};                                    if (document.getElementById(\"63d2a2db-01a2-4983-9cf5-9ca474298e45\")) {                    Plotly.newPlot(                        \"63d2a2db-01a2-4983-9cf5-9ca474298e45\",                        [{\"line\":{\"color\":\"#cb8b94\"},\"name\":\"One-Off Payment: 0\",\"stackgroup\":\"one\",\"type\":\"scatter\",\"x\":[1,2,3],\"y\":[1040.6,108.35199999999986,21.782560000000103]},{\"line\":{\"color\":\"#ac9a78\"},\"name\":\"One-Off Payment: 10000\",\"stackgroup\":\"one\",\"type\":\"scatter\",\"x\":[1,2,3],\"y\":[458.5999999999999,-390.64800000000014,-477.2174399999999]},{\"line\":{\"color\":\"#7ea677\"},\"name\":\"One-Off Payment: 20000\",\"stackgroup\":\"one\",\"type\":\"scatter\",\"x\":[1,2,3],\"y\":[-123.40000000000009,-889.6480000000001,-976.2174399999999]},{\"line\":{\"color\":\"#7ca4a0\"},\"name\":\"One-Off Payment: 30000\",\"stackgroup\":\"one\",\"type\":\"scatter\",\"x\":[1,2,3],\"y\":[-705.4000000000001,-1388.6480000000001,-1475.21744]},{\"line\":{\"color\":\"#819fc1\"},\"name\":\"One-Off Payment: 40000\",\"stackgroup\":\"one\",\"type\":\"scatter\",\"x\":[1,2,3],\"y\":[-1287.4,-1887.6480000000001,-1974.21744]},{\"line\":{\"color\":\"#be8bc4\"},\"name\":\"One-Off Payment: 50000\",\"stackgroup\":\"one\",\"type\":\"scatter\",\"x\":[1,2,3],\"y\":[-1869.4,-2386.648,-2473.21744]}],                        {\"template\":{\"data\":{\"bar\":[{\"error_x\":{\"color\":\"#2a3f5f\"},\"error_y\":{\"color\":\"#2a3f5f\"},\"marker\":{\"line\":{\"color\":\"#E5ECF6\",\"width\":0.5},\"pattern\":{\"fillmode\":\"overlay\",\"size\":10,\"solidity\":0.2}},\"type\":\"bar\"}],\"barpolar\":[{\"marker\":{\"line\":{\"color\":\"#E5ECF6\",\"width\":0.5},\"pattern\":{\"fillmode\":\"overlay\",\"size\":10,\"solidity\":0.2}},\"type\":\"barpolar\"}],\"carpet\":[{\"aaxis\":{\"endlinecolor\":\"#2a3f5f\",\"gridcolor\":\"white\",\"linecolor\":\"white\",\"minorgridcolor\":\"white\",\"startlinecolor\":\"#2a3f5f\"},\"baxis\":{\"endlinecolor\":\"#2a3f5f\",\"gridcolor\":\"white\",\"linecolor\":\"white\",\"minorgridcolor\":\"white\",\"startlinecolor\":\"#2a3f5f\"},\"type\":\"carpet\"}],\"choropleth\":[{\"colorbar\":{\"outlinewidth\":0,\"ticks\":\"\"},\"type\":\"choropleth\"}],\"contour\":[{\"colorbar\":{\"outlinewidth\":0,\"ticks\":\"\"},\"colorscale\":[[0.0,\"#0d0887\"],[0.1111111111111111,\"#46039f\"],[0.2222222222222222,\"#7201a8\"],[0.3333333333333333,\"#9c179e\"],[0.4444444444444444,\"#bd3786\"],[0.5555555555555556,\"#d8576b\"],[0.6666666666666666,\"#ed7953\"],[0.7777777777777778,\"#fb9f3a\"],[0.8888888888888888,\"#fdca26\"],[1.0,\"#f0f921\"]],\"type\":\"contour\"}],\"contourcarpet\":[{\"colorbar\":{\"outlinewidth\":0,\"ticks\":\"\"},\"type\":\"contourcarpet\"}],\"heatmap\":[{\"colorbar\":{\"outlinewidth\":0,\"ticks\":\"\"},\"colorscale\":[[0.0,\"#0d0887\"],[0.1111111111111111,\"#46039f\"],[0.2222222222222222,\"#7201a8\"],[0.3333333333333333,\"#9c179e\"],[0.4444444444444444,\"#bd3786\"],[0.5555555555555556,\"#d8576b\"],[0.6666666666666666,\"#ed7953\"],[0.7777777777777778,\"#fb9f3a\"],[0.8888888888888888,\"#fdca26\"],[1.0,\"#f0f921\"]],\"type\":\"heatmap\"}],\"heatmapgl\":[{\"colorbar\":{\"outlinewidth\":0,\"ticks\":\"\"},\"colorscale\":[[0.0,\"#0d0887\"],[0.1111111111111111,\"#46039f\"],[0.2222222222222222,\"#7201a8\"],[0.3333333333333333,\"#9c179e\"],[0.4444444444444444,\"#bd3786\"],[0.5555555555555556,\"#d8576b\"],[0.6666666666666666,\"#ed7953\"],[0.7777777777777778,\"#fb9f3a\"],[0.8888888888888888,\"#fdca26\"],[1.0,\"#f0f921\"]],\"type\":\"heatmapgl\"}],\"histogram\":[{\"marker\":{\"pattern\":{\"fillmode\":\"overlay\",\"size\":10,\"solidity\":0.2}},\"type\":\"histogram\"}],\"histogram2d\":[{\"colorbar\":{\"outlinewidth\":0,\"ticks\":\"\"},\"colorscale\":[[0.0,\"#0d0887\"],[0.1111111111111111,\"#46039f\"],[0.2222222222222222,\"#7201a8\"],[0.3333333333333333,\"#9c179e\"],[0.4444444444444444,\"#bd3786\"],[0.5555555555555556,\"#d8576b\"],[0.6666666666666666,\"#ed7953\"],[0.7777777777777778,\"#fb9f3a\"],[0.8888888888888888,\"#fdca26\"],[1.0,\"#f0f921\"]],\"type\":\"histogram2d\"}],\"histogram2dcontour\":[{\"colorbar\":{\"outlinewidth\":0,\"ticks\":\"\"},\"colorscale\":[[0.0,\"#0d0887\"],[0.1111111111111111,\"#46039f\"],[0.2222222222222222,\"#7201a8\"],[0.3333333333333333,\"#9c179e\"],[0.4444444444444444,\"#bd3786\"],[0.5555555555555556,\"#d8576b\"],[0.6666666666666666,\"#ed7953\"],[0.7777777777777778,\"#fb9f3a\"],[0.8888888888888888,\"#fdca26\"],[1.0,\"#f0f921\"]],\"type\":\"histogram2dcontour\"}],\"mesh3d\":[{\"colorbar\":{\"outlinewidth\":0,\"ticks\":\"\"},\"type\":\"mesh3d\"}],\"parcoords\":[{\"line\":{\"colorbar\":{\"outlinewidth\":0,\"ticks\":\"\"}},\"type\":\"parcoords\"}],\"pie\":[{\"automargin\":true,\"type\":\"pie\"}],\"scatter\":[{\"marker\":{\"colorbar\":{\"outlinewidth\":0,\"ticks\":\"\"}},\"type\":\"scatter\"}],\"scatter3d\":[{\"line\":{\"colorbar\":{\"outlinewidth\":0,\"ticks\":\"\"}},\"marker\":{\"colorbar\":{\"outlinewidth\":0,\"ticks\":\"\"}},\"type\":\"scatter3d\"}],\"scattercarpet\":[{\"marker\":{\"colorbar\":{\"outlinewidth\":0,\"ticks\":\"\"}},\"type\":\"scattercarpet\"}],\"scattergeo\":[{\"marker\":{\"colorbar\":{\"outlinewidth\":0,\"ticks\":\"\"}},\"type\":\"scattergeo\"}],\"scattergl\":[{\"marker\":{\"colorbar\":{\"outlinewidth\":0,\"ticks\":\"\"}},\"type\":\"scattergl\"}],\"scattermapbox\":[{\"marker\":{\"colorbar\":{\"outlinewidth\":0,\"ticks\":\"\"}},\"type\":\"scattermapbox\"}],\"scatterpolar\":[{\"marker\":{\"colorbar\":{\"outlinewidth\":0,\"ticks\":\"\"}},\"type\":\"scatterpolar\"}],\"scatterpolargl\":[{\"marker\":{\"colorbar\":{\"outlinewidth\":0,\"ticks\":\"\"}},\"type\":\"scatterpolargl\"}],\"scatterternary\":[{\"marker\":{\"colorbar\":{\"outlinewidth\":0,\"ticks\":\"\"}},\"type\":\"scatterternary\"}],\"surface\":[{\"colorbar\":{\"outlinewidth\":0,\"ticks\":\"\"},\"colorscale\":[[0.0,\"#0d0887\"],[0.1111111111111111,\"#46039f\"],[0.2222222222222222,\"#7201a8\"],[0.3333333333333333,\"#9c179e\"],[0.4444444444444444,\"#bd3786\"],[0.5555555555555556,\"#d8576b\"],[0.6666666666666666,\"#ed7953\"],[0.7777777777777778,\"#fb9f3a\"],[0.8888888888888888,\"#fdca26\"],[1.0,\"#f0f921\"]],\"type\":\"surface\"}],\"table\":[{\"cells\":{\"fill\":{\"color\":\"#EBF0F8\"},\"line\":{\"color\":\"white\"}},\"header\":{\"fill\":{\"color\":\"#C8D4E3\"},\"line\":{\"color\":\"white\"}},\"type\":\"table\"}]},\"layout\":{\"annotationdefaults\":{\"arrowcolor\":\"#2a3f5f\",\"arrowhead\":0,\"arrowwidth\":1},\"autotypenumbers\":\"strict\",\"coloraxis\":{\"colorbar\":{\"outlinewidth\":0,\"ticks\":\"\"}},\"colorscale\":{\"diverging\":[[0,\"#8e0152\"],[0.1,\"#c51b7d\"],[0.2,\"#de77ae\"],[0.3,\"#f1b6da\"],[0.4,\"#fde0ef\"],[0.5,\"#f7f7f7\"],[0.6,\"#e6f5d0\"],[0.7,\"#b8e186\"],[0.8,\"#7fbc41\"],[0.9,\"#4d9221\"],[1,\"#276419\"]],\"sequential\":[[0.0,\"#0d0887\"],[0.1111111111111111,\"#46039f\"],[0.2222222222222222,\"#7201a8\"],[0.3333333333333333,\"#9c179e\"],[0.4444444444444444,\"#bd3786\"],[0.5555555555555556,\"#d8576b\"],[0.6666666666666666,\"#ed7953\"],[0.7777777777777778,\"#fb9f3a\"],[0.8888888888888888,\"#fdca26\"],[1.0,\"#f0f921\"]],\"sequentialminus\":[[0.0,\"#0d0887\"],[0.1111111111111111,\"#46039f\"],[0.2222222222222222,\"#7201a8\"],[0.3333333333333333,\"#9c179e\"],[0.4444444444444444,\"#bd3786\"],[0.5555555555555556,\"#d8576b\"],[0.6666666666666666,\"#ed7953\"],[0.7777777777777778,\"#fb9f3a\"],[0.8888888888888888,\"#fdca26\"],[1.0,\"#f0f921\"]]},\"colorway\":[\"#636efa\",\"#EF553B\",\"#00cc96\",\"#ab63fa\",\"#FFA15A\",\"#19d3f3\",\"#FF6692\",\"#B6E880\",\"#FF97FF\",\"#FECB52\"],\"font\":{\"color\":\"#2a3f5f\"},\"geo\":{\"bgcolor\":\"white\",\"lakecolor\":\"white\",\"landcolor\":\"#E5ECF6\",\"showlakes\":true,\"showland\":true,\"subunitcolor\":\"white\"},\"hoverlabel\":{\"align\":\"left\"},\"hovermode\":\"closest\",\"mapbox\":{\"style\":\"light\"},\"paper_bgcolor\":\"white\",\"plot_bgcolor\":\"#E5ECF6\",\"polar\":{\"angularaxis\":{\"gridcolor\":\"white\",\"linecolor\":\"white\",\"ticks\":\"\"},\"bgcolor\":\"#E5ECF6\",\"radialaxis\":{\"gridcolor\":\"white\",\"linecolor\":\"white\",\"ticks\":\"\"}},\"scene\":{\"xaxis\":{\"backgroundcolor\":\"#E5ECF6\",\"gridcolor\":\"white\",\"gridwidth\":2,\"linecolor\":\"white\",\"showbackground\":true,\"ticks\":\"\",\"zerolinecolor\":\"white\"},\"yaxis\":{\"backgroundcolor\":\"#E5ECF6\",\"gridcolor\":\"white\",\"gridwidth\":2,\"linecolor\":\"white\",\"showbackground\":true,\"ticks\":\"\",\"zerolinecolor\":\"white\"},\"zaxis\":{\"backgroundcolor\":\"#E5ECF6\",\"gridcolor\":\"white\",\"gridwidth\":2,\"linecolor\":\"white\",\"showbackground\":true,\"ticks\":\"\",\"zerolinecolor\":\"white\"}},\"shapedefaults\":{\"line\":{\"color\":\"#2a3f5f\"}},\"ternary\":{\"aaxis\":{\"gridcolor\":\"white\",\"linecolor\":\"white\",\"ticks\":\"\"},\"baxis\":{\"gridcolor\":\"white\",\"linecolor\":\"white\",\"ticks\":\"\"},\"bgcolor\":\"#E5ECF6\",\"caxis\":{\"gridcolor\":\"white\",\"linecolor\":\"white\",\"ticks\":\"\"}},\"title\":{\"x\":0.05},\"xaxis\":{\"automargin\":true,\"gridcolor\":\"white\",\"linecolor\":\"white\",\"ticks\":\"\",\"title\":{\"standoff\":15},\"zerolinecolor\":\"white\",\"zerolinewidth\":2},\"yaxis\":{\"automargin\":true,\"gridcolor\":\"white\",\"linecolor\":\"white\",\"ticks\":\"\",\"title\":{\"standoff\":15},\"zerolinecolor\":\"white\",\"zerolinewidth\":2}}},\"title\":{\"text\":\"Gain or Loss for Different One-Off Payment Amounts Over Time\"},\"xaxis\":{\"title\":{\"text\":\"Years\"}},\"yaxis\":{\"title\":{\"text\":\"Gain or Loss\"}}},                        {\"responsive\": true}                    ).then(function(){\n",
       "                            \n",
       "var gd = document.getElementById('63d2a2db-01a2-4983-9cf5-9ca474298e45');\n",
       "var x = new MutationObserver(function (mutations, observer) {{\n",
       "        var display = window.getComputedStyle(gd).display;\n",
       "        if (!display || display === 'none') {{\n",
       "            console.log([gd, 'removed!']);\n",
       "            Plotly.purge(gd);\n",
       "            observer.disconnect();\n",
       "        }}\n",
       "}});\n",
       "\n",
       "// Listen for the removal of the full notebook cells\n",
       "var notebookContainer = gd.closest('#notebook-container');\n",
       "if (notebookContainer) {{\n",
       "    x.observe(notebookContainer, {childList: true});\n",
       "}}\n",
       "\n",
       "// Listen for the clearing of the current output cell\n",
       "var outputEl = gd.closest('.output');\n",
       "if (outputEl) {{\n",
       "    x.observe(outputEl, {childList: true});\n",
       "}}\n",
       "\n",
       "                        })                };                });            </script>        </div>"
      ]
     },
     "metadata": {},
     "output_type": "display_data"
    }
   ],
   "source": [
    "import plotly.graph_objs as go\n",
    "\n",
    "def plot_area_gain_or_loss(one_off_payment_range, gain_or_loss_data, title):\n",
    "    fig = go.Figure()\n",
    "    color_palette = ['#cb8b94', '#ac9a78', '#7ea677', '#7ca4a0', '#819fc1', '#be8bc4']\n",
    "    for i, one_off_payment in enumerate(one_off_payment_range):\n",
    "        fig.add_trace(go.Scatter(x=list(range(1, len(gain_or_loss_data[0]) + 1)), y=gain_or_loss_data[i], \n",
    "                                 stackgroup='one', name=f'One-Off Payment: {one_off_payment}', \n",
    "                                 line=dict(color=color_palette[i % len(color_palette)])))\n",
    "    fig.update_layout(title=title, xaxis_title=\"Years\", yaxis_title=\"Gain or Loss\",\n",
    "#                         title=title,\n",
    "#                         plot_bgcolor=\"#FFF\",  # Sets background color to white\n",
    "#                         xaxis=dict(\n",
    "#                             title=\"Years\",\n",
    "#                             linecolor=\"#BCCCDC\",  # Sets color of X-axis line\n",
    "#                             showgrid=True  # Removes X-axis grid lines\n",
    "#                         ),\n",
    "#                         yaxis=dict(\n",
    "#                             title=\"Gain or Loss\",  \n",
    "#                             linecolor=\"#BCCCDC\",  # Sets color of Y-axis line\n",
    "#                             #showgrid=False,  # Removes Y-axis grid lines    \n",
    "#                         )\n",
    ")\n",
    "\n",
    "    fig.show()\n",
    "\n",
    "plot_area_gain_or_loss(one_off_payment_range, gain_or_loss_data, \"Gain or Loss for Different One-Off Payment Amounts Over Time\")"
   ]
  },
  {
   "cell_type": "code",
   "execution_count": 171,
   "id": "9b65f89e",
   "metadata": {},
   "outputs": [
    {
     "data": {
      "text/html": [
       "<svg  width=\"330\" height=\"55\"><rect x=\"0\" y=\"0\" width=\"55\" height=\"55\" style=\"fill:#cb8b94;stroke-width:2;stroke:rgb(255,255,255)\"/><rect x=\"55\" y=\"0\" width=\"55\" height=\"55\" style=\"fill:#ac9a78;stroke-width:2;stroke:rgb(255,255,255)\"/><rect x=\"110\" y=\"0\" width=\"55\" height=\"55\" style=\"fill:#7ea677;stroke-width:2;stroke:rgb(255,255,255)\"/><rect x=\"165\" y=\"0\" width=\"55\" height=\"55\" style=\"fill:#7ca4a0;stroke-width:2;stroke:rgb(255,255,255)\"/><rect x=\"220\" y=\"0\" width=\"55\" height=\"55\" style=\"fill:#819fc1;stroke-width:2;stroke:rgb(255,255,255)\"/><rect x=\"275\" y=\"0\" width=\"55\" height=\"55\" style=\"fill:#be8bc4;stroke-width:2;stroke:rgb(255,255,255)\"/></svg>"
      ],
      "text/plain": [
       "[(0.7973774215435722, 0.5437247724897194, 0.5792120727646433),\n",
       " (0.6745106399346137, 0.6038862582260649, 0.47068885861899207),\n",
       " (0.4954406045983249, 0.6526830324326673, 0.46857428049966526),\n",
       " (0.4859798659523616, 0.6418250670095154, 0.6259446925861523),\n",
       " (0.5047731287519484, 0.6229130595802063, 0.7566756173582012),\n",
       " (0.7440150453033102, 0.5433228014843097, 0.7689691084933888)]"
      ]
     },
     "execution_count": 171,
     "metadata": {},
     "output_type": "execute_result"
    }
   ],
   "source": [
    "import seaborn as sns\n",
    "sns.husl_palette(s=.4)"
   ]
  },
  {
   "cell_type": "code",
   "execution_count": 172,
   "id": "7df5a507",
   "metadata": {},
   "outputs": [
    {
     "name": "stdout",
     "output_type": "stream",
     "text": [
      "['#cb8b94', '#ac9a78', '#7ea677', '#7ca4a0', '#819fc1', '#be8bc4']\n"
     ]
    }
   ],
   "source": [
    "print(sns.husl_palette(s=.4).as_hex())"
   ]
  },
  {
   "cell_type": "code",
   "execution_count": null,
   "id": "e49e08ee",
   "metadata": {},
   "outputs": [],
   "source": []
  }
 ],
 "metadata": {
  "kernelspec": {
   "display_name": "Python 3",
   "language": "python",
   "name": "python3"
  },
  "language_info": {
   "codemirror_mode": {
    "name": "ipython",
    "version": 3
   },
   "file_extension": ".py",
   "mimetype": "text/x-python",
   "name": "python",
   "nbconvert_exporter": "python",
   "pygments_lexer": "ipython3",
   "version": "3.8.8"
  }
 },
 "nbformat": 4,
 "nbformat_minor": 5
}
